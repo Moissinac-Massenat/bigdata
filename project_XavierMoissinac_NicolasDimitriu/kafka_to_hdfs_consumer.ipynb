{
 "cells": [
  {
   "cell_type": "code",
   "execution_count": null,
   "metadata": {},
   "outputs": [],
   "source": [
    "from kafka import KafkaConsumer\n",
    "from hdfs import InsecureClient\n",
    "import json\n",
    "\n",
    "# Consommateur Kafka\n",
    "consumer = KafkaConsumer(\n",
    "    'sensor_data',\n",
    "    bootstrap_servers=['localhost:9093'],  # Utilise l'IP du conteneur Kafka\n",
    "    group_id='sensor_group',\n",
    "    value_deserializer=lambda x: json.loads(x.decode('utf-8')),\n",
    "    auto_offset_reset='earliest',\n",
    "    enable_auto_commit=True,\n",
    ")\n",
    "\n",
    "# Initialiser le client HDFS avec l'adresse correcte du conteneur Hadoop\n",
    "hdfs_client = InsecureClient('http://172.19.0.6:50070', user='hadoop')  # Utiliser 50070 ici pour l'accès WebHDFS\n",
    "\n",
    "# Consommer les messages de Kafka et les stocker dans HDFS\n",
    "for message in consumer:\n",
    "    data = message.value\n",
    "    try:\n",
    "        # Afficher les données reçues\n",
    "        print(f\"Received data: {data}\")\n",
    "\n",
    "        # Vérifier si le fichier existe dans HDFS avant d'écrire\n",
    "        file_path = '/user/iot/sensor_data/sensor_data.json'\n",
    "        try:\n",
    "            hdfs_client.status(file_path)  # Vérifie si le fichier existe\n",
    "            file_exists = True\n",
    "        except FileNotFoundError:\n",
    "            file_exists = False\n",
    "        \n",
    "        # Si le fichier n'existe pas, crée-le et écrit les données\n",
    "        if not file_exists:\n",
    "            with hdfs_client.write(file_path, overwrite=True) as writer:\n",
    "                writer.write(json.dumps(data) + \"\\n\")\n",
    "        else:\n",
    "            # Ajouter les données dans le fichier JSON en mode append\n",
    "            with hdfs_client.write(file_path, append=True) as writer:\n",
    "                writer.write(json.dumps(data) + \"\\n\")\n",
    "        \n",
    "        # Confirmer l'ajout des données dans la console\n",
    "        print(\"Data written to HDFS successfully.\")\n",
    "    except Exception as e:\n",
    "        # Afficher l'erreur en cas de problème avec HDFS\n",
    "        print(f\"Error writing to HDFS: {e}\")\n"
   ]
  }
 ],
 "metadata": {
  "colab": {
   "provenance": []
  },
  "kernelspec": {
   "display_name": "Python 3",
   "language": "python",
   "name": "python3"
  },
  "language_info": {
   "codemirror_mode": {
    "name": "ipython",
    "version": 3
   },
   "file_extension": ".py",
   "mimetype": "text/x-python",
   "name": "python",
   "nbconvert_exporter": "python",
   "pygments_lexer": "ipython3",
   "version": "3.12.7"
  }
 },
 "nbformat": 4,
 "nbformat_minor": 4
}
