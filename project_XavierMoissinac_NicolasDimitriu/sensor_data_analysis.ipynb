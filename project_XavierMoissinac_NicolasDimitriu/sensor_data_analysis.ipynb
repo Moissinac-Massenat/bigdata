{
 "cells": [
  {
   "cell_type": "code",
   "execution_count": null,
   "metadata": {
    "vscode": {
     "languageId": "powershell"
    }
   },
   "outputs": [],
   "source": [
    "pip install pyspark\n"
   ]
  },
  {
   "cell_type": "code",
   "execution_count": null,
   "metadata": {},
   "outputs": [],
   "source": [
    "from pyspark.sql import SparkSession\n",
    "from pyspark.sql.functions import col\n",
    "\n",
    "# Initialiser Spark\n",
    "spark = SparkSession.builder.appName(\"SensorDataAnalysis\").getOrCreate()\n",
    "\n",
    "# Charger les données depuis HDFS\n",
    "sensor_data_df = spark.read.json(\"hdfs://172.17.0.2:9000/user/iot/sensor_data/sensor_data.json\")\n",
    "\n",
    "# Détecter les anomalies (température > 28 ou pression < 1015)\n",
    "anomalies_df = sensor_data_df.filter((col(\"temperature\") > 28) | (col(\"pressure\") < 1015))\n",
    "\n",
    "# Afficher les anomalies\n",
    "anomalies_df.show()\n"
   ]
  }
 ],
 "metadata": {
  "colab": {
   "provenance": []
  },
  "kernelspec": {
   "display_name": "Python 3",
   "language": "python",
   "name": "python3"
  },
  "language_info": {
   "codemirror_mode": {
    "name": "ipython",
    "version": 3
   },
   "file_extension": ".py",
   "mimetype": "text/x-python",
   "name": "python",
   "nbconvert_exporter": "python",
   "pygments_lexer": "ipython3",
   "version": "3.12.7"
  }
 },
 "nbformat": 4,
 "nbformat_minor": 4
}
